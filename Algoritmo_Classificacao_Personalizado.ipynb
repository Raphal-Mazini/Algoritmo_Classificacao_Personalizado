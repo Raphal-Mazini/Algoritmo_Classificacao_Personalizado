{
 "cells": [
  {
   "cell_type": "code",
   "execution_count": 10,
   "id": "fd8b4ed8",
   "metadata": {},
   "outputs": [],
   "source": [
    "import numpy as np"
   ]
  },
  {
   "cell_type": "markdown",
   "id": "5b13da57",
   "metadata": {},
   "source": [
    "Uma ``classe`` comumente define o estado e o comportamento de um objeto implementando **atributos** e **métodos**. Os ``atributos`` (por vezes referidos como **campos**, **membros de dados** ou **propriedades**), indicam as possíveis **informações armazenadas por um objeto de uma classe**, representando o estado de cada objeto\n",
    "\n",
    "``Classes`` proporcionam uma forma de organizar dados e funcionalidades juntos. Criar uma nova classe cria um novo “tipo” de objeto, permitindo que novas “instâncias” desse tipo sejam produzidas. Cada instância da classe pode ter atributos anexados a ela, para manter seu estado\n",
    "\n",
    "O numpy irá criar a matriz com os valores, sejam os dados em si, ou a matriz com pesos e bayes, o numpy somente será utilizado para gerar as matrizes\n",
    "\n",
    "O método init do python é uma função especial que podemos aplicar para inicializar uma classe. Utilizado como construtor da classe\n",
    "Para declarar um atributo em uma classe no Python é bem simples, basta definir o nome do atributo no método especial chamado **--init--** , este método define o construtor da classe.\n",
    "é usado para inicializar o objeto quando vai criar uma instância daquela classe. É um jeito esquisito de fazer isto, mas é o jeito Python. O self é um parâmetro obrigatório que receberá a instância criada. Ao contrário de muitas linguagens, ele deve ser explícito.\n",
    "\n",
    "o self é utilizado para acessar os atributos e métodos de um objeto em particular.O self é sempre o primeiro parâmetro de todos os métodos chamados por uma instância de uma classe (ou seja, um objeto). Self está sempre apontando para o objeto atual"
   ]
  },
  {
   "cell_type": "code",
   "execution_count": 11,
   "id": "253bc204",
   "metadata": {},
   "outputs": [],
   "source": [
    "# Criando a classe do algoritmo\n",
    "class AlgoritmoDSA:\n",
    "    \n",
    "    # Definindo uma função para o metodo contrutor do objeto\n",
    "    def __init__(self, taxa_aprendizado = 0.01, num_iteracoes = 1000):\n",
    "        \n",
    "        # Inicializa os atributos da classe, com os valores passsados como argumeto, ou valor default, se nehnum valor for inserido\n",
    "        self.taxa_aprendizado = taxa_aprendizado\n",
    "        self.num_iteracoes = num_iteracoes\n",
    "        \n",
    "        # Inicializa os coeficientes com None\n",
    "        self.pesos = None\n",
    "        self.bias = None\n",
    "        \n",
    "     # Método da função sigmóide para gerar a previsão no formato de probabilidade (valores entre 0 e 1)\n",
    "    def sigmoid(self, pred):\n",
    "        \n",
    "        # Retorna a função com o argumento pred (previsao) passado como argumento ao chamar a função\n",
    "        return 1 / (1 + np.exp(-pred)) \n",
    "    \n",
    "    # Método de treinamento\n",
    "    def fit(self, X, y):\n",
    "        \n",
    "        # Extrai do shape o número de linhas(tamanho) e de colunas(recursos/atributos) do conjunto de dados\n",
    "        num_registros, num_atributos = X.shape\n",
    "\n",
    "        # Inicializa a matriz de pesos com valores iguais a zero, no mesmo shape do número de atributos\n",
    "        self.pesos = np.zeros(num_atributos)\n",
    "\n",
    "        # Inicializa o scalar bias com valor zero\n",
    "        self.bias = 0\n",
    "\n",
    "        # Otimização usando gradiente descendente\n",
    "        for _ in range(self.num_iteracoes):\n",
    "            \n",
    "            # Faz a previsão usando o valor de X, pesos e bias\n",
    "            previsao = np.dot(X, self.pesos) + self.bias\n",
    "            \n",
    "            # Converte a previsão no formato de probabilidade usando função sigmóide\n",
    "            previsao_final = self.sigmoid(previsao)\n",
    "\n",
    "            # Calcula os gradientes (derivadas da matriz de pesos e do bias)\n",
    "            dw = (1 / num_registros) * np.dot(X.T, (previsao_final - y))\n",
    "            db = (1 / num_registros) * np.sum(previsao_final - y)\n",
    "\n",
    "            # Atualiza os pesos e bias usando o valor das derivadas e a taxa de aprendizado\n",
    "\n",
    "            # Fórmula: pesos - (taxa-aprendizado * derivada dos pesos)\n",
    "            self.pesos -= self.taxa_aprendizado * dw\n",
    "\n",
    "            # Fórmula: bias - (taxa-aprendizado * derivada do bias)\n",
    "            self.bias -= self.taxa_aprendizado * db\n",
    "\n",
    "    # Método para as previsões\n",
    "    def predict(self, X):\n",
    "        \n",
    "        # Faz as previsões com novos dados de entrada e com os valores aprendidos de pesos e bias\n",
    "        previsao = np.dot(X, self.pesos) + self.bias\n",
    "        \n",
    "        # Converte as previsões no formato de probabilidade usando função sigmóide\n",
    "        previsao_final = self.sigmoid(previsao)\n",
    "        \n",
    "        # Aplica o cut-off e converte probabilidades para classes binárias (0 ou 1)\n",
    "        classe_prevista = [1 if i > 0.5 else 0 for i in previsao_final]\n",
    "        \n",
    "        return classe_prevista\n",
    "\n"
   ]
  },
  {
   "cell_type": "markdown",
   "id": "d408b55c",
   "metadata": {},
   "source": [
    "## Aplicando o AlgoritmoDSA aos Dados"
   ]
  },
  {
   "cell_type": "code",
   "execution_count": 12,
   "id": "f09cc8a9",
   "metadata": {},
   "outputs": [
    {
     "name": "stdout",
     "output_type": "stream",
     "text": [
      "\n",
      "Para os atributos de entrada [1 2] a previsão foi (0): Não é Transação Suspeita\n",
      "\n",
      "Para os atributos de entrada [4 5] a previsão foi (1): É Transação Suspeita\n",
      "\n",
      "\n"
     ]
    }
   ],
   "source": [
    "# Treinamento do Modelo\n",
    "\n",
    "# Dados de exemplo para treinar o modelo (você pode adaptar para seus próprios dados)\n",
    "X = np.array([[1, 2], [2, 3], [3, 5], [1, 4], [5, 6], [6, 7]])\n",
    "y = np.array([0, 0, 1, 0, 1, 1])\n",
    "\n",
    "# Classe 0 = Não é Transação Suspeita\n",
    "# Classe 1 = É Transação Suspeita\n",
    "\n",
    "# Cria o modelo a partir da classe\n",
    "modelo_dsa = AlgoritmoDSA(taxa_aprendizado = 0.01, num_iteracoes = 1000)\n",
    "\n",
    "# Treina o modelo\n",
    "modelo_dsa.fit(X, y)\n",
    "\n",
    "# Realiza previsões com novos dados\n",
    "novos_dados = np.array([[1, 2], [4, 5]])\n",
    "resultado = modelo_dsa.predict(novos_dados)\n",
    "\n",
    "# Bloco if para avaliar os resultados\n",
    "for i, res in enumerate(resultado):\n",
    "    entrada = novos_dados[i]\n",
    "    if res == 0:\n",
    "        print(f\"\\nPara os atributos de entrada {entrada} a previsão foi (0): Não é Transação Suspeita\")\n",
    "    elif res == 1:\n",
    "        print(f\"\\nPara os atributos de entrada {entrada} a previsão foi (1): É Transação Suspeita\")\n",
    "    else:\n",
    "        print(f\"\\nPara os atributos de entrada {entrada} a previsão foi ({res}): Outra Classe\")\n",
    "\n",
    "print(\"\\n\")\n",
    "\n",
    "# Fim\n",
    "\n",
    "\n"
   ]
  },
  {
   "cell_type": "markdown",
   "id": "0c2774eb",
   "metadata": {},
   "source": []
  }
 ],
 "metadata": {
  "kernelspec": {
   "display_name": "Python 3 (ipykernel)",
   "language": "python",
   "name": "python3"
  },
  "language_info": {
   "codemirror_mode": {
    "name": "ipython",
    "version": 3
   },
   "file_extension": ".py",
   "mimetype": "text/x-python",
   "name": "python",
   "nbconvert_exporter": "python",
   "pygments_lexer": "ipython3",
   "version": "3.9.13"
  }
 },
 "nbformat": 4,
 "nbformat_minor": 5
}
